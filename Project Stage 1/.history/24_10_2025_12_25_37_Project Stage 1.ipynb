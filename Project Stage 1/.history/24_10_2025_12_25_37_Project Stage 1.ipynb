{
 "cells": [
  {
   "cell_type": "code",
   "execution_count": null,
   "id": "65504806-244f-43b1-bd65-3ae50b1d8084",
   "metadata": {},
   "outputs": [],
   "source": [
    "setwd(\"~/Project-stage-1-STAT-301-Kaishin-Li\")\n",
    "library(tidyverse)\n",
    "library(readxl)\n"
   ]
  },
  {
   "cell_type": "code",
   "execution_count": null,
   "id": "c73129f2-e313-42e5-b081-7b5889e93e9a",
   "metadata": {},
   "outputs": [],
   "source": [
    "gallstone_data <- read_excel(\"dataset-uci.xlsx\")\n",
    "head(gallstone_data)"
   ]
  },
  {
   "cell_type": "markdown",
   "id": "22b67568-2834-453b-887e-582931276399",
   "metadata": {},
   "source": [
    "## Section 1 ##"
   ]
  },
  {
   "cell_type": "markdown",
   "id": "0e25704a-11e7-421b-8cc1-4c348dcdc980",
   "metadata": {},
   "source": [
    "The data set that my group will be working with is the Gallstone data set. A gallstone is a solid clump that forms in the gallbladder and is typically composed of bile, such as cholesterol or bilirubin, which is a substance that forms when red blood cells break down. "
   ]
  },
  {
   "cell_type": "code",
   "execution_count": null,
   "id": "1d344e95-c147-4d38-a070-1fd99ef65ff2",
   "metadata": {},
   "outputs": [],
   "source": [
    "nrow(gallstone_data)"
   ]
  },
  {
   "cell_type": "code",
   "execution_count": null,
   "id": "9691f45b-88f3-46ad-b209-3c1e338764f9",
   "metadata": {},
   "outputs": [],
   "source": [
    "ncol(gallstone_data)"
   ]
  },
  {
   "cell_type": "markdown",
   "id": "e9b69cd0-93b8-40d5-9ebd-dabb68214ecd",
   "metadata": {},
   "source": [
    "This data set contains 319 observations and has 38 variables all of which I will provide a brief description for. \n"
   ]
  },
  {
   "cell_type": "markdown",
   "id": "edc1b841-32e7-46a0-8325-84446a77f2f3",
   "metadata": {},
   "source": [
    "### Gallstone status (Categorical)\n",
    "- 1 for people with gallstones; 0 otherwise\n",
    "### Age (Numerical)\n",
    "- Values range from 20-96\n",
    "### Sex (categorical)\n",
    "- 0 for male; 1 for female\n",
    "### Comorbidity (Categorical)\n",
    "- 1 if the person has comorbidities (if a person has 2 or more medical conditions); 0 otherwise \n",
    "### Hypertension (Categorical)\n",
    "- 1 if the person has hypertension; 0 otherwise\n",
    "- Used to determine comorbidity\n",
    "### Hyperthyroidism (Categorical)\n",
    "- 1 if the person has hyperthyroidism; 0 otherwise\n",
    "- Used to determine comorbidity\n",
    "### Hyperlipidemia (Categorical)\n",
    "- 1 if the person has hyperlipidemia; 0 otherwise\n",
    "- Used to determine comorbidity\n",
    "### Diabetes mellitus (Categorical)\n",
    "- 1 if the person has diabetes mellitus\n",
    "- Used to determine comorbidity\n",
    "### Height (Numerical)\n",
    "- Person’s height measured in cm\n",
    "- Measured while the person is barefoot\n",
    "### Weight (Numerical)\n",
    "- Person’s weight measured in kg\n",
    "- Measured while the person is wearing thin clothing <0.1kg\n",
    "### BMI (Numerical)\n",
    "- Indicator of obesity calculated by weight (kg) / height^2 (m^2)\n",
    "\n",
    " Biomedical impedance analysis (BIA) was performed by all participants using the Tanita MC780 device and was used to determine the following variables: **total body water**, **extracellular water**, and **intracellular water**, measured in kilograms. The **total body fat ratio**, **lean mass**, **degree of obesity**, and **protein content of the body** are presented as percentages. **Bone mass**, **muscle mass**, **total fat content**, **visceral fat area**, and **visceral muscle area** were measured in kilograms. \n",
    "\n",
    "### Hepatic fat accumulation (Numerical)\n",
    "- Measured using ultrasonography\n",
    "\n",
    "The following variables were measured from a blood test: glucose levels (mg/dL), total cholesterol (mg/dL), LDL cholesterol (mg/dL), HDL cholesterol (mg/dL), triglycerides (mg/dL), aspartat aminotransferaz (U/L), ALT (U/L), alkalen fosfataz (U/L), creatinine (mg/dL), GFR (ml/seconds), CRP level (mg/L), hemoglobin count (g/dL), and vitamin D concentration (ng/mL).\n"
   ]
  },
  {
   "cell_type": "markdown",
   "id": "25088987-fd70-4bd8-bbca-8099a3af7c65",
   "metadata": {},
   "source": [
    "For this analysis, I will be including variables that relate to a person’s overall health, primarily related to obesity or factors that relate to obesity. The following variables will be included in my exploration of the data: Gallstone status, Sex, Diabetes mellitus, Height, Weight, BMI, total body fat ratio, degree of obesity, total fat content, hepatic fat accumulation, total cholesterol, LDL cholesterol, and HDL cholesterol. The reason for the inclusion of factors is that since gallstones typically consist of cholesterol, I want to see the effect of obesity on the formation of gallstones. "
   ]
  },
  {
   "cell_type": "code",
   "execution_count": null,
   "id": "7a513fca-e986-4315-a8a8-158d4a1a17ec",
   "metadata": {},
   "outputs": [],
   "source": []
  }
 ],
 "metadata": {
  "kernelspec": {
   "display_name": "R",
   "language": "R",
   "name": "ir"
  },
  "language_info": {
   "codemirror_mode": "r",
   "file_extension": ".r",
   "mimetype": "text/x-r-source",
   "name": "R",
   "pygments_lexer": "r",
   "version": "4.3.3"
  }
 },
 "nbformat": 4,
 "nbformat_minor": 5
}
