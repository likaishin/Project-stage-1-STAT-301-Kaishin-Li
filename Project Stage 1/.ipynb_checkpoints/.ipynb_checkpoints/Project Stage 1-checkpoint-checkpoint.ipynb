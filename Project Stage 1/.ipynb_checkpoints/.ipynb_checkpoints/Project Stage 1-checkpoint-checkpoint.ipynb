{
 "cells": [
  {
   "cell_type": "code",
   "execution_count": 3,
   "id": "65504806-244f-43b1-bd65-3ae50b1d8084",
   "metadata": {},
   "outputs": [
    {
     "name": "stderr",
     "output_type": "stream",
     "text": [
      "── \u001b[1mAttaching core tidyverse packages\u001b[22m ──────────────────────── tidyverse 2.0.0 ──\n",
      "\u001b[32m✔\u001b[39m \u001b[34mdplyr    \u001b[39m 1.1.4     \u001b[32m✔\u001b[39m \u001b[34mreadr    \u001b[39m 2.1.5\n",
      "\u001b[32m✔\u001b[39m \u001b[34mforcats  \u001b[39m 1.0.0     \u001b[32m✔\u001b[39m \u001b[34mstringr  \u001b[39m 1.5.1\n",
      "\u001b[32m✔\u001b[39m \u001b[34mggplot2  \u001b[39m 3.5.1     \u001b[32m✔\u001b[39m \u001b[34mtibble   \u001b[39m 3.2.1\n",
      "\u001b[32m✔\u001b[39m \u001b[34mlubridate\u001b[39m 1.9.3     \u001b[32m✔\u001b[39m \u001b[34mtidyr    \u001b[39m 1.3.1\n",
      "\u001b[32m✔\u001b[39m \u001b[34mpurrr    \u001b[39m 1.0.2     \n",
      "── \u001b[1mConflicts\u001b[22m ────────────────────────────────────────── tidyverse_conflicts() ──\n",
      "\u001b[31m✖\u001b[39m \u001b[34mdplyr\u001b[39m::\u001b[32mfilter()\u001b[39m masks \u001b[34mstats\u001b[39m::filter()\n",
      "\u001b[31m✖\u001b[39m \u001b[34mdplyr\u001b[39m::\u001b[32mlag()\u001b[39m    masks \u001b[34mstats\u001b[39m::lag()\n",
      "\u001b[36mℹ\u001b[39m Use the conflicted package (\u001b[3m\u001b[34m<http://conflicted.r-lib.org/>\u001b[39m\u001b[23m) to force all conflicts to become errors\n"
     ]
    }
   ],
   "source": [
    "setwd(\"~/Project-stage-1-STAT-301-Kaishin-Li\")\n",
    "library(tidyverse)\n",
    "library(readxl)\n"
   ]
  },
  {
   "cell_type": "code",
   "execution_count": 4,
   "id": "c73129f2-e313-42e5-b081-7b5889e93e9a",
   "metadata": {},
   "outputs": [
    {
     "data": {
      "text/html": [
       "<table class=\"dataframe\">\n",
       "<caption>A tibble: 6 × 39</caption>\n",
       "<thead>\n",
       "\t<tr><th scope=col>Gallstone Status</th><th scope=col>Age</th><th scope=col>Gender</th><th scope=col>Comorbidity</th><th scope=col>Coronary Artery Disease (CAD)</th><th scope=col>Hypothyroidism</th><th scope=col>Hyperlipidemia</th><th scope=col>Diabetes Mellitus (DM)</th><th scope=col>Height</th><th scope=col>Weight</th><th scope=col>⋯</th><th scope=col>High Density Lipoprotein (HDL)</th><th scope=col>Triglyceride</th><th scope=col>Aspartat Aminotransferaz (AST)</th><th scope=col>Alanin Aminotransferaz (ALT)</th><th scope=col>Alkaline Phosphatase (ALP)</th><th scope=col>Creatinine</th><th scope=col>Glomerular Filtration Rate (GFR)</th><th scope=col>C-Reactive Protein (CRP)</th><th scope=col>Hemoglobin (HGB)</th><th scope=col>Vitamin D</th></tr>\n",
       "\t<tr><th scope=col>&lt;dbl&gt;</th><th scope=col>&lt;dbl&gt;</th><th scope=col>&lt;dbl&gt;</th><th scope=col>&lt;dbl&gt;</th><th scope=col>&lt;dbl&gt;</th><th scope=col>&lt;dbl&gt;</th><th scope=col>&lt;dbl&gt;</th><th scope=col>&lt;dbl&gt;</th><th scope=col>&lt;dbl&gt;</th><th scope=col>&lt;dbl&gt;</th><th scope=col>⋯</th><th scope=col>&lt;dbl&gt;</th><th scope=col>&lt;dbl&gt;</th><th scope=col>&lt;dbl&gt;</th><th scope=col>&lt;dbl&gt;</th><th scope=col>&lt;dbl&gt;</th><th scope=col>&lt;dbl&gt;</th><th scope=col>&lt;dbl&gt;</th><th scope=col>&lt;dbl&gt;</th><th scope=col>&lt;dbl&gt;</th><th scope=col>&lt;dbl&gt;</th></tr>\n",
       "</thead>\n",
       "<tbody>\n",
       "\t<tr><td>0</td><td>50</td><td>0</td><td>0</td><td>0</td><td>0</td><td>0</td><td>0</td><td>185</td><td>92.8</td><td>⋯</td><td>40</td><td>134</td><td>20</td><td>22</td><td>87</td><td>0.82</td><td>112.47</td><td>0</td><td>16.0</td><td>33.0</td></tr>\n",
       "\t<tr><td>0</td><td>47</td><td>0</td><td>1</td><td>0</td><td>0</td><td>0</td><td>0</td><td>176</td><td>94.5</td><td>⋯</td><td>43</td><td>103</td><td>14</td><td>13</td><td>46</td><td>0.87</td><td>107.10</td><td>0</td><td>14.4</td><td>25.0</td></tr>\n",
       "\t<tr><td>0</td><td>61</td><td>0</td><td>0</td><td>0</td><td>0</td><td>0</td><td>0</td><td>171</td><td>91.1</td><td>⋯</td><td>43</td><td> 69</td><td>18</td><td>14</td><td>66</td><td>1.25</td><td> 65.51</td><td>0</td><td>16.2</td><td>30.2</td></tr>\n",
       "\t<tr><td>0</td><td>41</td><td>0</td><td>0</td><td>0</td><td>0</td><td>0</td><td>0</td><td>168</td><td>67.7</td><td>⋯</td><td>59</td><td> 53</td><td>20</td><td>12</td><td>34</td><td>1.02</td><td> 94.10</td><td>0</td><td>15.4</td><td>35.4</td></tr>\n",
       "\t<tr><td>0</td><td>42</td><td>0</td><td>0</td><td>0</td><td>0</td><td>0</td><td>0</td><td>178</td><td>89.6</td><td>⋯</td><td>30</td><td>326</td><td>27</td><td>54</td><td>71</td><td>0.82</td><td>112.47</td><td>0</td><td>16.8</td><td>40.6</td></tr>\n",
       "\t<tr><td>0</td><td>96</td><td>0</td><td>0</td><td>0</td><td>0</td><td>0</td><td>0</td><td>155</td><td>49.0</td><td>⋯</td><td>30</td><td> 65</td><td>13</td><td>13</td><td>60</td><td>1.46</td><td> 43.74</td><td>0</td><td>11.0</td><td>45.8</td></tr>\n",
       "</tbody>\n",
       "</table>\n"
      ],
      "text/latex": [
       "A tibble: 6 × 39\n",
       "\\begin{tabular}{lllllllllllllllllllll}\n",
       " Gallstone Status & Age & Gender & Comorbidity & Coronary Artery Disease (CAD) & Hypothyroidism & Hyperlipidemia & Diabetes Mellitus (DM) & Height & Weight & ⋯ & High Density Lipoprotein (HDL) & Triglyceride & Aspartat Aminotransferaz (AST) & Alanin Aminotransferaz (ALT) & Alkaline Phosphatase (ALP) & Creatinine & Glomerular Filtration Rate (GFR) & C-Reactive Protein (CRP) & Hemoglobin (HGB) & Vitamin D\\\\\n",
       " <dbl> & <dbl> & <dbl> & <dbl> & <dbl> & <dbl> & <dbl> & <dbl> & <dbl> & <dbl> & ⋯ & <dbl> & <dbl> & <dbl> & <dbl> & <dbl> & <dbl> & <dbl> & <dbl> & <dbl> & <dbl>\\\\\n",
       "\\hline\n",
       "\t 0 & 50 & 0 & 0 & 0 & 0 & 0 & 0 & 185 & 92.8 & ⋯ & 40 & 134 & 20 & 22 & 87 & 0.82 & 112.47 & 0 & 16.0 & 33.0\\\\\n",
       "\t 0 & 47 & 0 & 1 & 0 & 0 & 0 & 0 & 176 & 94.5 & ⋯ & 43 & 103 & 14 & 13 & 46 & 0.87 & 107.10 & 0 & 14.4 & 25.0\\\\\n",
       "\t 0 & 61 & 0 & 0 & 0 & 0 & 0 & 0 & 171 & 91.1 & ⋯ & 43 &  69 & 18 & 14 & 66 & 1.25 &  65.51 & 0 & 16.2 & 30.2\\\\\n",
       "\t 0 & 41 & 0 & 0 & 0 & 0 & 0 & 0 & 168 & 67.7 & ⋯ & 59 &  53 & 20 & 12 & 34 & 1.02 &  94.10 & 0 & 15.4 & 35.4\\\\\n",
       "\t 0 & 42 & 0 & 0 & 0 & 0 & 0 & 0 & 178 & 89.6 & ⋯ & 30 & 326 & 27 & 54 & 71 & 0.82 & 112.47 & 0 & 16.8 & 40.6\\\\\n",
       "\t 0 & 96 & 0 & 0 & 0 & 0 & 0 & 0 & 155 & 49.0 & ⋯ & 30 &  65 & 13 & 13 & 60 & 1.46 &  43.74 & 0 & 11.0 & 45.8\\\\\n",
       "\\end{tabular}\n"
      ],
      "text/markdown": [
       "\n",
       "A tibble: 6 × 39\n",
       "\n",
       "| Gallstone Status &lt;dbl&gt; | Age &lt;dbl&gt; | Gender &lt;dbl&gt; | Comorbidity &lt;dbl&gt; | Coronary Artery Disease (CAD) &lt;dbl&gt; | Hypothyroidism &lt;dbl&gt; | Hyperlipidemia &lt;dbl&gt; | Diabetes Mellitus (DM) &lt;dbl&gt; | Height &lt;dbl&gt; | Weight &lt;dbl&gt; | ⋯ ⋯ | High Density Lipoprotein (HDL) &lt;dbl&gt; | Triglyceride &lt;dbl&gt; | Aspartat Aminotransferaz (AST) &lt;dbl&gt; | Alanin Aminotransferaz (ALT) &lt;dbl&gt; | Alkaline Phosphatase (ALP) &lt;dbl&gt; | Creatinine &lt;dbl&gt; | Glomerular Filtration Rate (GFR) &lt;dbl&gt; | C-Reactive Protein (CRP) &lt;dbl&gt; | Hemoglobin (HGB) &lt;dbl&gt; | Vitamin D &lt;dbl&gt; |\n",
       "|---|---|---|---|---|---|---|---|---|---|---|---|---|---|---|---|---|---|---|---|---|\n",
       "| 0 | 50 | 0 | 0 | 0 | 0 | 0 | 0 | 185 | 92.8 | ⋯ | 40 | 134 | 20 | 22 | 87 | 0.82 | 112.47 | 0 | 16.0 | 33.0 |\n",
       "| 0 | 47 | 0 | 1 | 0 | 0 | 0 | 0 | 176 | 94.5 | ⋯ | 43 | 103 | 14 | 13 | 46 | 0.87 | 107.10 | 0 | 14.4 | 25.0 |\n",
       "| 0 | 61 | 0 | 0 | 0 | 0 | 0 | 0 | 171 | 91.1 | ⋯ | 43 |  69 | 18 | 14 | 66 | 1.25 |  65.51 | 0 | 16.2 | 30.2 |\n",
       "| 0 | 41 | 0 | 0 | 0 | 0 | 0 | 0 | 168 | 67.7 | ⋯ | 59 |  53 | 20 | 12 | 34 | 1.02 |  94.10 | 0 | 15.4 | 35.4 |\n",
       "| 0 | 42 | 0 | 0 | 0 | 0 | 0 | 0 | 178 | 89.6 | ⋯ | 30 | 326 | 27 | 54 | 71 | 0.82 | 112.47 | 0 | 16.8 | 40.6 |\n",
       "| 0 | 96 | 0 | 0 | 0 | 0 | 0 | 0 | 155 | 49.0 | ⋯ | 30 |  65 | 13 | 13 | 60 | 1.46 |  43.74 | 0 | 11.0 | 45.8 |\n",
       "\n"
      ],
      "text/plain": [
       "  Gallstone Status Age Gender Comorbidity Coronary Artery Disease (CAD)\n",
       "1 0                50  0      0           0                            \n",
       "2 0                47  0      1           0                            \n",
       "3 0                61  0      0           0                            \n",
       "4 0                41  0      0           0                            \n",
       "5 0                42  0      0           0                            \n",
       "6 0                96  0      0           0                            \n",
       "  Hypothyroidism Hyperlipidemia Diabetes Mellitus (DM) Height Weight ⋯\n",
       "1 0              0              0                      185    92.8   ⋯\n",
       "2 0              0              0                      176    94.5   ⋯\n",
       "3 0              0              0                      171    91.1   ⋯\n",
       "4 0              0              0                      168    67.7   ⋯\n",
       "5 0              0              0                      178    89.6   ⋯\n",
       "6 0              0              0                      155    49.0   ⋯\n",
       "  High Density Lipoprotein (HDL) Triglyceride Aspartat Aminotransferaz (AST)\n",
       "1 40                             134          20                            \n",
       "2 43                             103          14                            \n",
       "3 43                              69          18                            \n",
       "4 59                              53          20                            \n",
       "5 30                             326          27                            \n",
       "6 30                              65          13                            \n",
       "  Alanin Aminotransferaz (ALT) Alkaline Phosphatase (ALP) Creatinine\n",
       "1 22                           87                         0.82      \n",
       "2 13                           46                         0.87      \n",
       "3 14                           66                         1.25      \n",
       "4 12                           34                         1.02      \n",
       "5 54                           71                         0.82      \n",
       "6 13                           60                         1.46      \n",
       "  Glomerular Filtration Rate (GFR) C-Reactive Protein (CRP) Hemoglobin (HGB)\n",
       "1 112.47                           0                        16.0            \n",
       "2 107.10                           0                        14.4            \n",
       "3  65.51                           0                        16.2            \n",
       "4  94.10                           0                        15.4            \n",
       "5 112.47                           0                        16.8            \n",
       "6  43.74                           0                        11.0            \n",
       "  Vitamin D\n",
       "1 33.0     \n",
       "2 25.0     \n",
       "3 30.2     \n",
       "4 35.4     \n",
       "5 40.6     \n",
       "6 45.8     "
      ]
     },
     "metadata": {},
     "output_type": "display_data"
    }
   ],
   "source": [
    "gallstone_data <- read_excel(\"dataset-uci.xlsx\")\n",
    "head(gallstone_data)"
   ]
  },
  {
   "cell_type": "markdown",
   "id": "22b67568-2834-453b-887e-582931276399",
   "metadata": {},
   "source": [
    "## Section 1 : Data Description"
   ]
  },
  {
   "cell_type": "markdown",
   "id": "0e25704a-11e7-421b-8cc1-4c348dcdc980",
   "metadata": {},
   "source": [
    "The data set that my group will be working with is the Gallstone data set. A gallstone is a solid clump that forms in the gallbladder and is typically composed of bile, such as cholesterol or bilirubin, which is a substance that forms when red blood cells break down. "
   ]
  },
  {
   "cell_type": "code",
   "execution_count": 5,
   "id": "1d344e95-c147-4d38-a070-1fd99ef65ff2",
   "metadata": {},
   "outputs": [
    {
     "data": {
      "text/html": [
       "319"
      ],
      "text/latex": [
       "319"
      ],
      "text/markdown": [
       "319"
      ],
      "text/plain": [
       "[1] 319"
      ]
     },
     "metadata": {},
     "output_type": "display_data"
    }
   ],
   "source": [
    "nrow(gallstone_data)"
   ]
  },
  {
   "cell_type": "code",
   "execution_count": 6,
   "id": "9691f45b-88f3-46ad-b209-3c1e338764f9",
   "metadata": {},
   "outputs": [
    {
     "data": {
      "text/html": [
       "39"
      ],
      "text/latex": [
       "39"
      ],
      "text/markdown": [
       "39"
      ],
      "text/plain": [
       "[1] 39"
      ]
     },
     "metadata": {},
     "output_type": "display_data"
    }
   ],
   "source": [
    "ncol(gallstone_data)"
   ]
  },
  {
   "cell_type": "markdown",
   "id": "e9b69cd0-93b8-40d5-9ebd-dabb68214ecd",
   "metadata": {},
   "source": [
    "This data set contains 319 observations and has 38 variables all of which I will provide a brief description for. \n"
   ]
  },
  {
   "cell_type": "markdown",
   "id": "edc1b841-32e7-46a0-8325-84446a77f2f3",
   "metadata": {},
   "source": [
    "### Gallstone status (Categorical)\n",
    "- 1 for people with gallstones; 0 otherwise\n",
    "### Age (Numerical)\n",
    "- Values range from 20-96\n",
    "### Sex (categorical)\n",
    "- 0 for male; 1 for female\n",
    "### Comorbidity (Categorical)\n",
    "- 1 if the person has comorbidities (if a person has 2 or more medical conditions); 0 otherwise \n",
    "### Hypertension (Categorical)\n",
    "- 1 if the person has hypertension; 0 otherwise\n",
    "- Used to determine comorbidity\n",
    "### Hyperthyroidism (Categorical)\n",
    "- 1 if the person has hyperthyroidism; 0 otherwise\n",
    "- Used to determine comorbidity\n",
    "### Hyperlipidemia (Categorical)\n",
    "- 1 if the person has hyperlipidemia; 0 otherwise\n",
    "- Used to determine comorbidity\n",
    "### Diabetes mellitus (Categorical)\n",
    "- 1 if the person has diabetes mellitus\n",
    "- Used to determine comorbidity\n",
    "### Height (Numerical)\n",
    "- Person’s height measured in cm\n",
    "- Measured while the person is barefoot\n",
    "### Weight (Numerical)\n",
    "- Person’s weight measured in kg\n",
    "- Measured while the person is wearing thin clothing <0.1kg\n",
    "### BMI (Numerical)\n",
    "- Indicator of obesity calculated by weight (kg) / height^2 (m^2)\n",
    "\n",
    "### Hepatic fat accumulation (Numerical)\n",
    "- Measured using ultrasonography\n",
    "\n",
    "\n",
    " Biomedical impedance analysis (BIA) was performed by all participants using the Tanita MC780 device and was used to determine the following variables: **total body water**, **extracellular water**, and **intracellular water**, measured in kilograms. The **total body fat ratio**, **lean mass**, **degree of obesity**, and **protein content of the body** are presented as percentages. **Bone mass**, **muscle mass**, **total fat content**, **visceral fat area**, and **visceral muscle area** were measured in kilograms. \n",
    "\n",
    "The following variables were measured from a blood test: **glucose levels (mg/dL)**, **total cholesterol (mg/dL)**, **LDL cholesterol (mg/dL)**, **HDL cholesterol (mg/dL)**, **triglycerides (mg/dL)**, **aspartat aminotransferaz (U/L)**, **ALT (U/L)**, **alkalen fosfataz (U/L)**, **creatinine (mg/dL)**, **GFR (ml/seconds)**, **CRP level (mg/L)**, **hemoglobin count (g/dL)**, and **vitamin D concentration (ng/mL)**.\n"
   ]
  },
  {
   "cell_type": "markdown",
   "id": "25088987-fd70-4bd8-bbca-8099a3af7c65",
   "metadata": {},
   "source": [
    "For this analysis, I will be including variables that relate to a person’s overall health, primarily related to obesity or factors that relate to obesity. The following variables will be included in my exploration of the data: **Gallstone status**, **Sex**, **Diabetes mellitus**, **Height**, **Weight**, **BMI**, **total body fat ratio**, **degree of obesity**, **total fat content**, **hepatic fat accumulation**, **total cholesterol**, **LDL cholesterol**, and **HDL cholesterol**. The reason for the inclusion of factors is that since gallstones typically consist of cholesterol, I want to see the effect of obesity on the formation of gallstones. "
   ]
  },
  {
   "cell_type": "markdown",
   "id": "79497e1a-2058-4eea-b265-33a885b70949",
   "metadata": {},
   "source": [
    "## Section 2: Scientific Question"
   ]
  },
  {
   "cell_type": "markdown",
   "id": "36abc887-b495-493d-a296-b1abca406c19",
   "metadata": {},
   "source": [
    "For this exploration, I want to explore the association between gallstone formation and factors of personal health relating to obesity. The response of this exploration is variable **gallstone status**, which is a categorical variable taking on the value 1 if the person has a gallstone, and 0 otherwise. This is a exploration is a prediction, and I will try to determine whether a person is at risk of getting gallstone disease by using the factors of personal health that relate to obesity. "
   ]
  },
  {
   "cell_type": "markdown",
   "id": "83672056-b254-4840-91ce-e26c5a0d1849",
   "metadata": {},
   "source": [
    "## Section 3: Exploratory Analysis and Visualization"
   ]
  },
  {
   "cell_type": "markdown",
   "id": "5209b8a0-06af-44dd-b491-650878795007",
   "metadata": {},
   "source": [
    "As shown above, the data can be loaded into R, and is already in tidy format."
   ]
  },
  {
   "cell_type": "code",
   "execution_count": null,
   "id": "efe4d2ff-50f1-4bc3-9249-cbb99b798e2c",
   "metadata": {},
   "outputs": [],
   "source": [
    "head(gallstone_data)"
   ]
  },
  {
   "cell_type": "code",
   "execution_count": null,
   "id": "3168746e-c6dd-4cbf-ad77-e4ced3d39f86",
   "metadata": {},
   "outputs": [],
   "source": []
  }
 ],
 "metadata": {
  "kernelspec": {
   "display_name": "R",
   "language": "R",
   "name": "ir"
  },
  "language_info": {
   "codemirror_mode": "r",
   "file_extension": ".r",
   "mimetype": "text/x-r-source",
   "name": "R",
   "pygments_lexer": "r",
   "version": "4.3.3"
  }
 },
 "nbformat": 4,
 "nbformat_minor": 5
}
